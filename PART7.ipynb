{
 "cells": [
  {
   "cell_type": "markdown",
   "id": "93d4afc0cc5d21fd",
   "metadata": {
    "collapsed": false
   },
   "source": [
    "**Import Librarires And Dataset**"
   ]
  },
  {
   "metadata": {},
   "cell_type": "markdown",
   "source": "**Import Librarires And Dataset**",
   "id": "6d8be1dadb226d21"
  },
  {
   "cell_type": "code",
   "execution_count": 81,
   "id": "c3980ae6c078aa64",
   "metadata": {
    "collapsed": false,
    "ExecuteTime": {
     "end_time": "2024-04-02T07:39:32.310721Z",
     "start_time": "2024-04-02T07:39:32.304604Z"
    }
   },
   "source": [
    "import warnings\n",
    "import numpy as np\n",
    "import pandas as pd\n",
    "import time\n",
    "\n",
    "#some settings to show data\n",
    "warnings.filterwarnings('ignore')\n",
    "pd.set_option('display.max_columns', 50)\n",
    "\n",
    "#import dataset\n",
    "audit_risk = pd.read_csv(\"datasets/audit_risk.csv\")\n",
    "trial = pd.read_csv(\"datasets/trial.csv\")"
   ],
   "outputs": []
  },
  {
   "cell_type": "code",
   "execution_count": 104,
   "id": "d154e3bb7d3ebb6e",
   "metadata": {
    "collapsed": false,
    "ExecuteTime": {
     "end_time": "2024-04-02T07:39:34.765921Z",
     "start_time": "2024-04-02T07:39:34.762997Z"
    }
   },
   "source": [
    "# Define the KNN function\n",
    "def knn_classification_with_euclidean_distance(X_train, y_train, X_test, k):\n",
    "    # List to store the predicted labels for the test set\n",
    "    y_pred = []\n",
    "    distances = []\n",
    "    \n",
    "    for i in range(len(X_test)):\n",
    "        for j in range(len(X_train)):\n",
    "            # Calculate the distance between the two points using euclidean_distance func where I defined above section\n",
    "            dist = euclidean_distance(X_test[i], X_train[j])\n",
    "            distances.append((dist, y_train[j]))\n",
    "\n",
    "        distances.sort()\n",
    "        neighbors = distances[:k] # Get the k nearest neighbors\n",
    "\n",
    "        counts = {} # Count the votes for each class\n",
    "        for neighbor in neighbors:\n",
    "            label = neighbor[1]\n",
    "            if label in counts:\n",
    "                counts[label] += 1\n",
    "            else:\n",
    "                counts[label] = 1\n",
    "\n",
    "        max_count = max(counts, key=counts.get) # Get the class with the most votes\n",
    "        y_pred.append(max_count)\n",
    "\n",
    "    return y_pred"
   ],
   "outputs": []
  },
  {
   "cell_type": "code",
   "execution_count": 105,
   "id": "2dd97d72e3d65edf",
   "metadata": {
    "collapsed": false,
    "ExecuteTime": {
     "end_time": "2024-04-02T07:39:34.812673Z",
     "start_time": "2024-04-02T07:39:34.810709Z"
    }
   },
   "source": [
    "# Define a function to calculate the Manhattan distance between two points\n",
    "def manhattan_distance(x1, x2):\n",
    "    return np.sum(np.abs(x1 - x2))"
   ],
   "outputs": []
  },
  {
   "cell_type": "code",
   "execution_count": 106,
   "id": "eed31be7d7f63a06",
   "metadata": {
    "collapsed": false,
    "ExecuteTime": {
     "end_time": "2024-04-02T07:39:34.858081Z",
     "start_time": "2024-04-02T07:39:34.855566Z"
    }
   },
   "source": [
    "def knn_regressor_with_manhattan_distance(X_train, y_train, X_test, k):\n",
    "    y_pred = []\n",
    "    distances = []\n",
    "    \n",
    "    for i in range(len(X_test)):\n",
    "        for j in range(len(X_train)):\n",
    "            # Calculate the distance between the two points using manhattan_distance func where I defined above section\n",
    "            dist = manhattan_distance(X_test[i], X_train[j])\n",
    "            distances.append((dist, y_train[j]))\n",
    "\n",
    "        distances.sort()\n",
    "        neighbors = distances[:k]# Get the k nearest neighbors\n",
    "        \n",
    "        mean_val = np.mean(neighbors)# Get the mean from the neighbors\n",
    "        y_pred.append(mean_val)\n",
    "\n",
    "    return y_pred"
   ],
   "outputs": []
  },
  {
   "metadata": {},
   "cell_type": "markdown",
   "source": "# PART 5",
   "id": "95d6ddf83f4a3905"
  },
  {
   "metadata": {
    "collapsed": false,
    "ExecuteTime": {
     "end_time": "2024-04-02T07:39:40.976037Z",
     "start_time": "2024-04-02T07:39:40.965278Z"
    }
   },
   "cell_type": "code",
   "outputs": [],
   "execution_count": 140,
   "source": [
    "from sklearn import svm\n",
    "\n",
    "class_df = df.drop(\"Audit_Risk\", axis=1)\n",
    "classification_X = class_df.drop([\"Risk\"], axis=1)\n",
    "classification_y = class_df[\"Risk\"]\n",
    "\n",
    "X_train, X_test, y_train, y_test = train_test_split(classification_X, classification_y, test_size=0.3, random_state=42)\n",
    "\n",
    "scaler = StandardScaler()\n",
    "X_train_scaled = scaler.fit_transform(X_train)\n",
    "X_test_scaled = scaler.transform(X_test)\n",
    "\n",
    "# Convert y_train and y_test to numpy arrays\n",
    "y_train = np.array(y_train)\n",
    "y_test = np.array(y_test)\n",
    "\n",
    "clf = svm.SVC(kernel='rbf')  # Rbf Kernel\n",
    "start_time = time.time()\n",
    "clf.fit(X_train, y_train)\n",
    "y_pred = clf.predict(X_test)\n",
    "end_time = time.time()"
   ],
   "id": "b8e9765549976d92"
  },
  {
   "cell_type": "code",
   "source": [
    "print(\"Accuracy:\", metrics.accuracy_score(y_test, y_pred))"
   ],
   "metadata": {
    "collapsed": false,
    "ExecuteTime": {
     "end_time": "2024-04-02T07:39:40.978698Z",
     "start_time": "2024-04-02T07:39:40.976613Z"
    }
   },
   "id": "26e936da30596cf8",
   "execution_count": 141,
   "outputs": []
  },
  {
   "cell_type": "markdown",
   "source": [
    "**Find Confusion Matrix**"
   ],
   "metadata": {
    "collapsed": false
   },
   "id": "dbd78af19e610a3f"
  },
  {
   "cell_type": "code",
   "source": [
    "from sklearn.metrics import confusion_matrix\n",
    "\n",
    "confusion_matrix(y_test, y_pred)\n",
    "pd.crosstab(y_test, y_pred, rownames=['True'], colnames=['Predicted'], margins=True)"
   ],
   "metadata": {
    "collapsed": false,
    "ExecuteTime": {
     "end_time": "2024-04-02T07:39:40.992673Z",
     "start_time": "2024-04-02T07:39:40.979519Z"
    }
   },
   "id": "1399c16de4b5469a",
   "execution_count": 142,
   "outputs": []
  },
  {
   "cell_type": "markdown",
   "source": [
    "**Find Confusion Matrix & And Roc Values For Each K-fold**"
   ],
   "metadata": {
    "collapsed": false
   },
   "id": "ec1937909d4b2234"
  },
  {
   "metadata": {
    "collapsed": false,
    "ExecuteTime": {
     "end_time": "2024-04-02T07:39:41.011868Z",
     "start_time": "2024-04-02T07:39:40.993251Z"
    }
   },
   "cell_type": "code",
   "outputs": [],
   "execution_count": 143,
   "source": [
    "import numpy as np\n",
    "import pylab as pl\n",
    "from sklearn.metrics import roc_curve, auc\n",
    "from sklearn.model_selection import KFold\n",
    "import matplotlib.pyplot as plt\n",
    "import seaborn as sns\n",
    "\n",
    "kf = KFold(n_splits=6, shuffle=True, random_state=42)\n",
    "\n",
    "# List to store scores for each fold\n",
    "rocs = []\n",
    "roc_aucs = []\n",
    "confusion_matrices = []\n",
    "\n",
    "for train_index, val_index in kf.split(X_train_scaled):\n",
    "    X_train_fold, X_val_fold = X_train_scaled[train_index], X_train_scaled[val_index]\n",
    "    y_train_fold, y_val_fold = y_train[train_index], y_train[val_index]\n",
    "\n",
    "    clf = svm.SVC(kernel='rbf')  # Linear Kernel\n",
    "    clf.fit(X_train_fold, y_train_fold)\n",
    "    y_pred_fold = clf.predict(X_val_fold)\n",
    "\n",
    "    fpr, tpr, thresholds = roc_curve(y_val_fold, y_pred_fold)\n",
    "    roc_auc = auc(fpr, tpr)\n",
    "    roc_aucs.append(roc_auc)\n",
    "\n",
    "    cm = confusion_matrix(y_val_fold, y_pred_fold)\n",
    "    confusion_matrices.append(cm)\n",
    "\n",
    "    ######### IMPORTANT INFO ###########\n",
    "    # The optimal cut-off would be where tpr is high and fpr is low\n",
    "    # tpr - (1-fpr) is zero or near to zero is the optimal cut off point\n",
    "    ####################################\n",
    "\n",
    "    i = np.arange(len(tpr))  # index for df\n",
    "    roc = pd.DataFrame(\n",
    "        {'fpr': pd.Series(fpr, index=i),\n",
    "         'tpr': pd.Series(tpr, index=i),\n",
    "         '1-fpr': pd.Series(1 - fpr, index=i),\n",
    "         'tf': pd.Series(tpr - (1 - fpr), index=i),\n",
    "         'thresholds': pd.Series(thresholds, index=i)\n",
    "         })\n",
    "\n",
    "    rocs.append(roc)"
   ],
   "id": "a009a5f647b1ed37"
  },
  {
   "cell_type": "markdown",
   "source": "**Show Optimum threshold & ROC Curves**",
   "metadata": {
    "collapsed": false
   },
   "id": "f774fa4faf9af799"
  },
  {
   "metadata": {
    "collapsed": false,
    "ExecuteTime": {
     "end_time": "2024-04-02T07:39:42.106821Z",
     "start_time": "2024-04-02T07:39:41.012520Z"
    }
   },
   "cell_type": "code",
   "outputs": [],
   "execution_count": 144,
   "source": [
    " for i, roc in enumerate(rocs):\n",
    "    # Plot tpr vs 1-fpr\n",
    "    fig, ax = pl.subplots()\n",
    "    pl.plot(roc['tpr'], color='black')\n",
    "    pl.plot(roc['1-fpr'], color='red')\n",
    "    pl.xlabel('1-False Positive Rate')\n",
    "    pl.ylabel('True Positive Rate')\n",
    "    pl.title(f\"Area under the {i + 1}. ROC curve : {roc_aucs[i]}\")\n",
    "    pl.legend([\"tpr\", \"1-fpr\"], loc=\"lower right\")\n",
    "\n",
    "    plt.figure(figsize=(3, 3))\n",
    "    sns.heatmap(confusion_matrices[i], annot=True)\n",
    "    plt.title('Confusion Matrix')\n",
    "    plt.ylabel('True label')\n",
    "    plt.xlabel('False Label')\n",
    "    plt.plot()\n",
    "    ax.set_xticklabels([])\n",
    "\n",
    "    roc_optimum_threshold = roc.iloc[(roc.tf - 0).abs().argsort()[:1]]\n",
    "    print(f\"{i + 1}-fold ROC Optimum threshold= {list(roc_optimum_threshold['thresholds'])}\")\n",
    "\n",
    "plt.show()\n"
   ],
   "id": "3340e24a664c4f13"
  },
  {
   "metadata": {},
   "cell_type": "markdown",
   "source": "# PART 7",
   "id": "c03ee158cb2033ee"
  },
  {
   "cell_type": "code",
   "source": [
    "from sklearn.preprocessing import MinMaxScaler\n",
    "from sklearn.tree import DecisionTreeRegressor\n",
    "\n",
    "regression_df = bike_new\n",
    "regression_X = regression_df.drop([\"cnt\"], axis=1)\n",
    "regression_y = regression_df[\"cnt\"]\n",
    "\n",
    "X_train, X_test, y_train, y_test = train_test_split(regression_X, regression_y, test_size=0.3, random_state=42)\n",
    "\n",
    "scaler = MinMaxScaler()\n",
    "X_train = scaler.fit_transform(X_train)\n",
    "X_test = scaler.transform(X_test)\n",
    "\n",
    "y_train = np.array(y_train)\n",
    "y_test = np.array(y_test)\n",
    "\n",
    "# Detect single runtime performance\n",
    "dt = DecisionTreeRegressor(random_state=1, max_depth=5, min_impurity_decrease=0.1)\n",
    "start_time = time.time()\n",
    "dt.fit(X_train, y_train)\n",
    "y_pred = dt.predict(X_test)\n",
    "end_time = time.time()"
   ],
   "metadata": {
    "collapsed": false,
    "ExecuteTime": {
     "end_time": "2024-04-02T07:39:42.161291Z",
     "start_time": "2024-04-02T07:39:42.153890Z"
    }
   },
   "id": "4bb01f7927dc81be",
   "execution_count": 153,
   "outputs": []
  },
  {
   "cell_type": "markdown",
   "source": [
    "**Apply K-Fold Cross Validation**"
   ],
   "metadata": {
    "collapsed": false
   },
   "id": "420b9d5c08afd4bf"
  },
  {
   "cell_type": "code",
   "source": [
    "fold_number = 1\n",
    "accuracy_scores = []\n",
    "kf = KFold(n_splits=6, shuffle=True, random_state=42)\n",
    "\n",
    "for train_index, val_index in kf.split(X_train):\n",
    "    X_train_fold, X_val_fold = X_train[train_index], X_train[val_index]\n",
    "    y_train_fold, y_val_fold = y_train[train_index], y_train[val_index]\n",
    "    \n",
    "    dt = DecisionTreeRegressor(random_state=1, max_depth=5, min_impurity_decrease=0.1)\n",
    "    dt.fit(X_train_fold, y_train_fold)\n",
    "    y_pred = dt.predict(X_val_fold)\n",
    "    \n",
    "    accuracy = dt.score(X_val_fold, y_val_fold)  # we can also find accuracy: print(accuracy_score(y_test, y_pred))\n",
    "    print(f\"{fold_number}. Fold Cross Validation accuracy: {accuracy}\")\n",
    "    fold_number +=1\n",
    "\n",
    "print(\"\\n\")\n",
    "tree_to_set_of_rules(dt, regression_X.columns) # we can use again same tree_to_code function"
   ],
   "metadata": {
    "collapsed": false,
    "ExecuteTime": {
     "end_time": "2024-04-02T07:39:42.172780Z",
     "start_time": "2024-04-02T07:39:42.161811Z"
    }
   },
   "id": "443a0c0c0e4b5afc",
   "execution_count": 154,
   "outputs": []
  },
  {
   "cell_type": "markdown",
   "source": [
    "**Final Test**"
   ],
   "metadata": {
    "collapsed": false
   },
   "id": "8648f76b87cbebc7"
  },
  {
   "cell_type": "code",
   "source": [
    "y_pred = dt.predict(X_test)\n",
    "print(f\"Final R2 Score After k-fold cross validation with test data:  {r2_score(y_test, y_pred):.3f}\")"
   ],
   "metadata": {
    "collapsed": false,
    "ExecuteTime": {
     "end_time": "2024-04-02T07:39:42.175296Z",
     "start_time": "2024-04-02T07:39:42.173302Z"
    }
   },
   "id": "9af3c7fa087fe552",
   "execution_count": 155,
   "outputs": []
  },
  {
   "cell_type": "markdown",
   "source": [
    "**Performance**\n",
    "As you see in the above outputs, K-cross validation's predict value is a bit higher than final predeict value.  "
   ],
   "metadata": {
    "collapsed": false
   },
   "id": "60fe0825254cb98"
  },
  {
   "cell_type": "code",
   "source": [
    "print(f'Predict Runtime: {end_time - start_time:.6f} seconds')"
   ],
   "metadata": {
    "collapsed": false,
    "ExecuteTime": {
     "end_time": "2024-04-02T07:39:42.177449Z",
     "start_time": "2024-04-02T07:39:42.175873Z"
    }
   },
   "id": "c2ea2b772320eb9b",
   "execution_count": 156,
   "outputs": []
  }
 ],
 "metadata": {
  "kernelspec": {
   "display_name": "Python 3",
   "language": "python",
   "name": "python3"
  },
  "language_info": {
   "codemirror_mode": {
    "name": "ipython",
    "version": 2
   },
   "file_extension": ".py",
   "mimetype": "text/x-python",
   "name": "python",
   "nbconvert_exporter": "python",
   "pygments_lexer": "ipython2",
   "version": "2.7.6"
  }
 },
 "nbformat": 4,
 "nbformat_minor": 5
}
