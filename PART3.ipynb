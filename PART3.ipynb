{
 "cells": [
  {
   "cell_type": "markdown",
   "id": "93d4afc0cc5d21fd",
   "metadata": {
    "collapsed": false
   },
   "source": [
    "**Import Librarires And Dataset**"
   ]
  },
  {
   "cell_type": "code",
   "execution_count": 81,
   "id": "c3980ae6c078aa64",
   "metadata": {
    "collapsed": false,
    "ExecuteTime": {
     "end_time": "2024-04-02T07:39:32.310721Z",
     "start_time": "2024-04-02T07:39:32.304604Z"
    }
   },
   "source": [
    "import warnings\n",
    "import numpy as np\n",
    "import pandas as pd\n",
    "import time\n",
    "from sklearn.metrics import accuracy_score\n",
    "from sklearn.preprocessing import StandardScaler\n",
    "from sklearn.metrics import confusion_matrix\n",
    "#some settings to show data\n",
    "warnings.filterwarnings('ignore')\n",
    "pd.set_option('display.max_columns', 50)\n",
    "\n",
    "#import dataset\n",
    "audit_risk = pd.read_csv(\"datasets/audit_risk.csv\")\n",
    "trial = pd.read_csv(\"datasets/trial.csv\")"
   ],
   "outputs": []
  },
  {
   "cell_type": "markdown",
   "id": "a4bb796ede4ad52a",
   "metadata": {
    "collapsed": false
   },
   "source": [
    "**Show Data**"
   ]
  },
  {
   "cell_type": "code",
   "execution_count": 82,
   "id": "91d85799c25bbbf9",
   "metadata": {
    "collapsed": false,
    "ExecuteTime": {
     "end_time": "2024-04-02T07:39:33.052460Z",
     "start_time": "2024-04-02T07:39:33.036732Z"
    }
   },
   "source": [
    "audit_risk.head(10)"
   ],
   "outputs": []
  },
  {
   "cell_type": "code",
   "execution_count": 83,
   "id": "a9182022dbeca44f",
   "metadata": {
    "collapsed": false,
    "ExecuteTime": {
     "end_time": "2024-04-02T07:39:33.079356Z",
     "start_time": "2024-04-02T07:39:33.071048Z"
    }
   },
   "source": [
    "trial.head(10)"
   ],
   "outputs": []
  },
  {
   "cell_type": "markdown",
   "id": "a66b5d44b7351844",
   "metadata": {
    "collapsed": false
   },
   "source": [
    "**Lets See Values Of Two Dataset**"
   ]
  },
  {
   "cell_type": "code",
   "execution_count": 84,
   "id": "a73aeaacff2883a6",
   "metadata": {
    "collapsed": false,
    "ExecuteTime": {
     "end_time": "2024-04-02T07:39:33.141017Z",
     "start_time": "2024-04-02T07:39:33.114358Z"
    }
   },
   "source": [
    "audit_risk.describe()"
   ],
   "outputs": []
  },
  {
   "cell_type": "code",
   "execution_count": 85,
   "id": "40615ed3b458df04",
   "metadata": {
    "collapsed": false,
    "ExecuteTime": {
     "end_time": "2024-04-02T07:39:33.179070Z",
     "start_time": "2024-04-02T07:39:33.162032Z"
    }
   },
   "source": [
    "trial.describe()"
   ],
   "outputs": []
  },
  {
   "cell_type": "markdown",
   "id": "647fe5f5ef79d0f0",
   "metadata": {
    "collapsed": false
   },
   "source": [
    "**Analysis**\n",
    "\n",
    "As you can see, two dataset are similarly same expect a bit difference. \n",
    "Firsty, SCORE_A AND SCORE_B in trial, multiply 10 with audit_risk Score_A and Score_B values, also that's capital. \n",
    "Second, Loss and Risk column in trial, completely different from audit_risk.\n",
    "\n",
    "First of all, change capital column names like audit_risk columns, then divide by 10 to Score_A and Score_B;"
   ]
  },
  {
   "cell_type": "code",
   "execution_count": 86,
   "id": "ea1c187784d5b33d",
   "metadata": {
    "collapsed": false,
    "ExecuteTime": {
     "end_time": "2024-04-02T07:39:33.268948Z",
     "start_time": "2024-04-02T07:39:33.266876Z"
    }
   },
   "source": [
    "trial.columns = ['Sector_score', 'LOCATION_ID', 'PARA_A', 'Score_A', 'PARA_B',\n",
    "                 'Score_B', 'TOTAL', 'numbers', 'Marks',\n",
    "                 'Money_Value', 'MONEY_Marks', 'District',\n",
    "                 'Loss', 'LOSS_SCORE', 'History', 'History_score', 'Score', 'Risk_trial']"
   ],
   "outputs": []
  },
  {
   "cell_type": "code",
   "execution_count": 87,
   "id": "98a65e9495d4e3ca",
   "metadata": {
    "collapsed": false,
    "ExecuteTime": {
     "end_time": "2024-04-02T07:39:33.332500Z",
     "start_time": "2024-04-02T07:39:33.330010Z"
    }
   },
   "source": [
    "trial['Score_A'] = trial['Score_A'] / 10\n",
    "trial['Score_B'] = trial['Score_B'] / 10"
   ],
   "outputs": []
  },
  {
   "cell_type": "markdown",
   "id": "75b36c0b2d8f929b",
   "metadata": {
    "collapsed": false
   },
   "source": [
    "**Observe two dataset**"
   ]
  },
  {
   "cell_type": "code",
   "execution_count": 88,
   "id": "cc9a73a12324aa74",
   "metadata": {
    "collapsed": false,
    "ExecuteTime": {
     "end_time": "2024-04-02T07:39:33.423719Z",
     "start_time": "2024-04-02T07:39:33.421095Z"
    }
   },
   "source": [
    "same_columns = np.intersect1d(audit_risk.columns, trial.columns)\n",
    "same_columns"
   ],
   "outputs": []
  },
  {
   "cell_type": "markdown",
   "id": "5fb3034f267dc364",
   "metadata": {
    "collapsed": false
   },
   "source": [
    "**Let's merge two dataset with same column**"
   ]
  },
  {
   "cell_type": "code",
   "execution_count": 89,
   "id": "4031d1cf103bf025",
   "metadata": {
    "collapsed": false,
    "ExecuteTime": {
     "end_time": "2024-04-02T07:39:33.499263Z",
     "start_time": "2024-04-02T07:39:33.493955Z"
    }
   },
   "source": [
    "merged_df = pd.merge(audit_risk, trial, how='outer',\n",
    "                     on=['History', 'LOCATION_ID', 'Money_Value', 'PARA_A', 'PARA_B', 'Score', 'Score_A', 'Score_B',\n",
    "                         'Sector_score', 'TOTAL', 'numbers'])\n",
    "merged_df.columns"
   ],
   "outputs": []
  },
  {
   "cell_type": "markdown",
   "id": "55df7ce7fb8adccf",
   "metadata": {
    "collapsed": false
   },
   "source": [
    "**Analysis**\n",
    "\n",
    "As you can see some values in Risk_trial in trial and Risk in audit_risk are different, we can select Risk column in audit_risk because if you will click link https://api.openml.org/d/42931, you can see target value is Risk in audit_risk dataset. So delete that column."
   ]
  },
  {
   "cell_type": "code",
   "execution_count": 90,
   "id": "a49b37371871b6a6",
   "metadata": {
    "collapsed": false,
    "ExecuteTime": {
     "end_time": "2024-04-02T07:39:33.620695Z",
     "start_time": "2024-04-02T07:39:33.618314Z"
    }
   },
   "source": [
    "df = merged_df.drop(['Risk_trial'], axis=1)"
   ],
   "outputs": []
  },
  {
   "cell_type": "markdown",
   "id": "bd5bcc8444f2955a",
   "metadata": {
    "collapsed": false
   },
   "source": [
    "Check null values"
   ]
  },
  {
   "cell_type": "code",
   "execution_count": 91,
   "id": "65be6230dcfbb06f",
   "metadata": {
    "collapsed": false,
    "ExecuteTime": {
     "end_time": "2024-04-02T07:39:33.659544Z",
     "start_time": "2024-04-02T07:39:33.656201Z"
    }
   },
   "source": [
    "df.isnull().sum()"
   ],
   "outputs": []
  },
  {
   "cell_type": "markdown",
   "id": "90fd5295d73d4eaf",
   "metadata": {
    "collapsed": false
   },
   "source": [
    "As you can see, Money_Value column has a null value. Set average value,"
   ]
  },
  {
   "cell_type": "code",
   "execution_count": 92,
   "id": "ea0238ae1b1e1ba7",
   "metadata": {
    "collapsed": false,
    "ExecuteTime": {
     "end_time": "2024-04-02T07:39:33.739113Z",
     "start_time": "2024-04-02T07:39:33.736775Z"
    }
   },
   "source": [
    "df['Money_Value'] = df['Money_Value'].fillna(df['Money_Value'].median())"
   ],
   "outputs": []
  },
  {
   "cell_type": "markdown",
   "id": "2c5e43d2ebaad018",
   "metadata": {
    "collapsed": false
   },
   "source": [
    "and Detection_Risk column is same value of Risk column, so delete it."
   ]
  },
  {
   "cell_type": "code",
   "execution_count": 93,
   "id": "d667112a038772cd",
   "metadata": {
    "collapsed": false,
    "ExecuteTime": {
     "end_time": "2024-04-02T07:39:33.758214Z",
     "start_time": "2024-04-02T07:39:33.752826Z"
    }
   },
   "source": [
    "df = df.drop(['Detection_Risk'], axis=1)\n",
    "df.info()"
   ],
   "outputs": []
  },
  {
   "cell_type": "markdown",
   "id": "e711c4773c62d91b",
   "metadata": {
    "collapsed": false
   },
   "source": [
    "Up to now, everything is good, let's see location id"
   ]
  },
  {
   "cell_type": "code",
   "execution_count": 94,
   "id": "afb18b60505b06c3",
   "metadata": {
    "collapsed": false,
    "ExecuteTime": {
     "end_time": "2024-04-02T07:39:33.780607Z",
     "start_time": "2024-04-02T07:39:33.778037Z"
    }
   },
   "source": [
    "df[\"LOCATION_ID\"].unique()"
   ],
   "outputs": []
  },
  {
   "cell_type": "markdown",
   "id": "d3cd2dc5773a86b0",
   "metadata": {
    "collapsed": false
   },
   "source": [
    "if you iterate to showed values, you will see end of the table there are some non numeric values, LOHARU, NUH and SAFIDON. How much that values in dataset"
   ]
  },
  {
   "cell_type": "code",
   "execution_count": 95,
   "id": "1440609eb3c3407e",
   "metadata": {
    "collapsed": false,
    "ExecuteTime": {
     "end_time": "2024-04-02T07:39:33.840407Z",
     "start_time": "2024-04-02T07:39:33.837244Z"
    }
   },
   "source": [
    "len(df[(df[\"LOCATION_ID\"] == 'LOHARU') | (df[\"LOCATION_ID\"] == 'NUH') | (df[\"LOCATION_ID\"] == 'SAFIDON')])"
   ],
   "outputs": []
  },
  {
   "cell_type": "code",
   "execution_count": 96,
   "id": "86b1dcf5db5c4829",
   "metadata": {
    "collapsed": false,
    "ExecuteTime": {
     "end_time": "2024-04-02T07:39:33.872601Z",
     "start_time": "2024-04-02T07:39:33.870232Z"
    }
   },
   "source": [
    "len(df)"
   ],
   "outputs": []
  },
  {
   "cell_type": "markdown",
   "id": "5204ca86ad943dbc",
   "metadata": {
    "collapsed": false
   },
   "source": [
    "Only 3 rows we have non numerical rows, so they seem deletable, i deleted it."
   ]
  },
  {
   "cell_type": "code",
   "execution_count": 97,
   "id": "92e7e1fd3329f41b",
   "metadata": {
    "collapsed": false,
    "ExecuteTime": {
     "end_time": "2024-04-02T07:39:33.954472Z",
     "start_time": "2024-04-02T07:39:33.950877Z"
    }
   },
   "source": [
    "df = df[(df.LOCATION_ID != 'LOHARU')]\n",
    "df = df[(df.LOCATION_ID != 'NUH')]\n",
    "df = df[(df.LOCATION_ID != 'SAFIDON')]"
   ],
   "outputs": []
  },
  {
   "cell_type": "code",
   "execution_count": 98,
   "id": "12710a869bbc1361",
   "metadata": {
    "collapsed": false,
    "ExecuteTime": {
     "end_time": "2024-04-02T07:39:33.992753Z",
     "start_time": "2024-04-02T07:39:33.990472Z"
    }
   },
   "source": [
    "len(df)"
   ],
   "outputs": []
  },
  {
   "cell_type": "markdown",
   "id": "956ef4fd06508190",
   "metadata": {
    "collapsed": false
   },
   "source": [
    "Also i drop duplicate values,"
   ]
  },
  {
   "cell_type": "code",
   "execution_count": 99,
   "id": "eb3eb29e96bf7ce5",
   "metadata": {
    "collapsed": false,
    "ExecuteTime": {
     "end_time": "2024-04-02T07:39:34.070471Z",
     "start_time": "2024-04-02T07:39:34.065860Z"
    }
   },
   "source": [
    "df = df.drop_duplicates(keep='first')\n",
    "print(f\"Rows: {len(df)}\")"
   ],
   "outputs": []
  },
  {
   "cell_type": "markdown",
   "id": "3d1bdc6a040a4785",
   "metadata": {
    "collapsed": false
   },
   "source": [
    "i drop high correlation values;"
   ]
  },
  {
   "cell_type": "code",
   "execution_count": 100,
   "id": "f20d7b9e3d5467fa",
   "metadata": {
    "collapsed": false,
    "ExecuteTime": {
     "end_time": "2024-04-02T07:39:34.123961Z",
     "start_time": "2024-04-02T07:39:34.096335Z"
    }
   },
   "source": [
    "import seaborn as sns\n",
    "\n",
    "corr = df.corr()\n",
    "corr.style.background_gradient(cmap='coolwarm')\n",
    "# 'RdBu_r' & 'BrBG' are other good diverging colormaps\n",
    "cm = sns.diverging_palette(220, 20, sep=20, as_cmap=True)\n",
    "corr.style.background_gradient(cmap=cm)"
   ],
   "outputs": []
  },
  {
   "cell_type": "code",
   "execution_count": 101,
   "id": "23e45375f6c23ef",
   "metadata": {
    "collapsed": false,
    "ExecuteTime": {
     "end_time": "2024-04-02T07:39:34.159889Z",
     "start_time": "2024-04-02T07:39:34.146926Z"
    }
   },
   "source": [
    "df = df[['Risk_A', 'Risk_B', 'Risk_C', 'Risk_D', 'RiSk_E', 'Prob', 'Score', 'CONTROL_RISK', 'Audit_Risk', 'Risk', 'MONEY_Marks', 'Loss']]\n",
    "corr = df.corr()\n",
    "corr.style.background_gradient(cmap='coolwarm')"
   ],
   "outputs": []
  },
  {
   "cell_type": "code",
   "execution_count": 102,
   "id": "64e56cee814993d3",
   "metadata": {
    "collapsed": false,
    "ExecuteTime": {
     "end_time": "2024-04-02T07:39:34.199924Z",
     "start_time": "2024-04-02T07:39:34.190730Z"
    }
   },
   "source": [
    "df"
   ],
   "outputs": []
  },
  {
   "cell_type": "markdown",
   "id": "2665b2c6640b9edf",
   "metadata": {
    "collapsed": false
   },
   "source": [
    "# Data Clean Operation Is Done"
   ]
  },
  {
   "cell_type": "markdown",
   "id": "93698df684ef540e",
   "metadata": {
    "collapsed": false
   },
   "source": [
    "# I will Implement Knn"
   ]
  },
  {
   "cell_type": "code",
   "execution_count": 103,
   "id": "f4f703ccf2472fd0",
   "metadata": {
    "collapsed": false,
    "ExecuteTime": {
     "end_time": "2024-04-02T07:39:34.736541Z",
     "start_time": "2024-04-02T07:39:34.734356Z"
    }
   },
   "source": [
    "import math\n",
    "\n",
    "# Define a function to calculate the Euclidean distance between two points\n",
    "def euclidean_distance(x1, x2):\n",
    "    return math.sqrt(np.sum((x1 - x2) ** 2))"
   ],
   "outputs": []
  },
  {
   "cell_type": "code",
   "execution_count": 104,
   "id": "d154e3bb7d3ebb6e",
   "metadata": {
    "collapsed": false,
    "ExecuteTime": {
     "end_time": "2024-04-02T07:39:34.765921Z",
     "start_time": "2024-04-02T07:39:34.762997Z"
    }
   },
   "source": [
    "# Define the KNN function\n",
    "def knn_classification_with_euclidean_distance(X_train, y_train, X_test, k):\n",
    "    # List to store the predicted labels for the test set\n",
    "    y_pred = []\n",
    "    distances = []\n",
    "    \n",
    "    for i in range(len(X_test)):\n",
    "        for j in range(len(X_train)):\n",
    "            # Calculate the distance between the two points using euclidean_distance func where I defined above section\n",
    "            dist = euclidean_distance(X_test[i], X_train[j])\n",
    "            distances.append((dist, y_train[j]))\n",
    "\n",
    "        distances.sort()\n",
    "        neighbors = distances[:k] # Get the k nearest neighbors\n",
    "\n",
    "        counts = {} # Count the votes for each class\n",
    "        for neighbor in neighbors:\n",
    "            label = neighbor[1]\n",
    "            if label in counts:\n",
    "                counts[label] += 1\n",
    "            else:\n",
    "                counts[label] = 1\n",
    "\n",
    "        max_count = max(counts, key=counts.get) # Get the class with the most votes\n",
    "        y_pred.append(max_count)\n",
    "\n",
    "    return y_pred"
   ],
   "outputs": []
  },
  {
   "cell_type": "code",
   "execution_count": 105,
   "id": "2dd97d72e3d65edf",
   "metadata": {
    "collapsed": false,
    "ExecuteTime": {
     "end_time": "2024-04-02T07:39:34.812673Z",
     "start_time": "2024-04-02T07:39:34.810709Z"
    }
   },
   "source": [
    "# Define a function to calculate the Manhattan distance between two points\n",
    "def manhattan_distance(x1, x2):\n",
    "    return np.sum(np.abs(x1 - x2))"
   ],
   "outputs": []
  },
  {
   "cell_type": "code",
   "execution_count": 106,
   "id": "eed31be7d7f63a06",
   "metadata": {
    "collapsed": false,
    "ExecuteTime": {
     "end_time": "2024-04-02T07:39:34.858081Z",
     "start_time": "2024-04-02T07:39:34.855566Z"
    }
   },
   "source": [
    "def knn_regressor_with_manhattan_distance(X_train, y_train, X_test, k):\n",
    "    y_pred = []\n",
    "    distances = []\n",
    "    \n",
    "    for i in range(len(X_test)):\n",
    "        for j in range(len(X_train)):\n",
    "            # Calculate the distance between the two points using manhattan_distance func where I defined above section\n",
    "            dist = manhattan_distance(X_test[i], X_train[j])\n",
    "            distances.append((dist, y_train[j]))\n",
    "\n",
    "        distances.sort()\n",
    "        neighbors = distances[:k]# Get the k nearest neighbors\n",
    "        \n",
    "        mean_val = np.mean(neighbors)# Get the mean from the neighbors\n",
    "        y_pred.append(mean_val)\n",
    "\n",
    "    return y_pred"
   ],
   "outputs": []
  },
  {
   "metadata": {},
   "cell_type": "markdown",
   "source": "# PART 3",
   "id": "f649ca8dd0bea952"
  },
  {
   "metadata": {
    "collapsed": false,
    "ExecuteTime": {
     "end_time": "2024-04-02T07:39:39.679557Z",
     "start_time": "2024-04-02T07:39:39.669389Z"
    }
   },
   "cell_type": "code",
   "outputs": [],
   "execution_count": 127,
   "source": [
    "from sklearn import svm\n",
    "\n",
    "class_df = df.drop(\"Audit_Risk\", axis=1)\n",
    "classification_X = class_df.drop([\"Risk\"], axis=1)\n",
    "classification_y = class_df[\"Risk\"]"
   ],
   "id": "29b3339d8fd94a3e"
  },
  {
   "cell_type": "code",
   "execution_count": 128,
   "id": "bf34a6b03470515b",
   "metadata": {
    "collapsed": false,
    "ExecuteTime": {
     "end_time": "2024-04-02T07:39:39.682880Z",
     "start_time": "2024-04-02T07:39:39.680413Z"
    }
   },
   "source": [
    "X_train, X_test, y_train, y_test = train_test_split(classification_X, classification_y, test_size=0.3, random_state=42)"
   ],
   "outputs": []
  },
  {
   "cell_type": "markdown",
   "id": "d4653ffc17bd4c7",
   "metadata": {
    "collapsed": false
   },
   "source": [
    "**KNN Accuracy for k = 3 without k-fold**"
   ]
  },
  {
   "cell_type": "code",
   "execution_count": 129,
   "id": "1ca137539790e526",
   "metadata": {
    "collapsed": false,
    "ExecuteTime": {
     "end_time": "2024-04-02T07:39:39.700779Z",
     "start_time": "2024-04-02T07:39:39.683453Z"
    }
   },
   "source": [
    "scaler = StandardScaler()\n",
    "X_train_scaled = scaler.fit_transform(X_train)\n",
    "X_test_scaled = scaler.transform(X_test)\n",
    "\n",
    "# Convert y_train and y_test to numpy arrays\n",
    "y_train = np.array(y_train)\n",
    "y_test = np.array(y_test)\n",
    "\n",
    "start_time = time.time()\n",
    "clf = svm.SVC(kernel='linear')  # Linear Kernel\n",
    "clf.fit(X_train, y_train)\n",
    "end_time = time.time()\n",
    "\n",
    "y_pred = clf.predict(X_test)"
   ],
   "outputs": []
  },
  {
   "cell_type": "code",
   "execution_count": 130,
   "id": "835a432f7da83a8c",
   "metadata": {
    "collapsed": false,
    "ExecuteTime": {
     "end_time": "2024-04-02T07:39:39.708714Z",
     "start_time": "2024-04-02T07:39:39.702527Z"
    }
   },
   "source": [
    "from sklearn import metrics\n",
    "\n",
    "# Model Accuracy: how often is the classifier correct?\n",
    "print(f\"Accuracy: {metrics.accuracy_score(y_test, y_pred)}\")"
   ],
   "outputs": []
  },
  {
   "cell_type": "markdown",
   "id": "7337314ebf8bd230",
   "metadata": {
    "collapsed": false
   },
   "source": [
    "**Find Confusion Matrix**"
   ]
  },
  {
   "cell_type": "code",
   "execution_count": 131,
   "id": "db14272a89d2b715",
   "metadata": {
    "collapsed": false,
    "ExecuteTime": {
     "end_time": "2024-04-02T07:39:39.748999Z",
     "start_time": "2024-04-02T07:39:39.709718Z"
    }
   },
   "source": [
    "from sklearn.metrics import confusion_matrix\n",
    "\n",
    "confusion_matrix(y_test, y_pred)\n",
    "pd.crosstab(y_test, y_pred, rownames=['True'], colnames=['Predicted'], margins=True)"
   ],
   "outputs": []
  },
  {
   "cell_type": "markdown",
   "id": "84be92c2373a8154",
   "metadata": {
    "collapsed": false
   },
   "source": [
    "**Find Confusion Matrix & And Roc Values For Each K-fold**"
   ]
  },
  {
   "cell_type": "code",
   "execution_count": 132,
   "id": "9af69e3cd188d07b",
   "metadata": {
    "collapsed": false,
    "ExecuteTime": {
     "end_time": "2024-04-02T07:39:39.803877Z",
     "start_time": "2024-04-02T07:39:39.751594Z"
    }
   },
   "source": [
    "import pylab as pl\n",
    "from sklearn.metrics import roc_curve, auc\n",
    "from sklearn.model_selection import KFold\n",
    "import matplotlib.pyplot as plt\n",
    "import seaborn as sns\n",
    "\n",
    "kf = KFold(n_splits=6, shuffle=True, random_state=42)\n",
    "\n",
    "# List to store scores for each fold\n",
    "rocs = []\n",
    "roc_aucs = []\n",
    "confusion_matrices = []\n",
    "\n",
    "for train_index, val_index in kf.split(X_train_scaled):\n",
    "    X_train_fold, X_val_fold = X_train_scaled[train_index], X_train_scaled[val_index]\n",
    "    y_train_fold, y_val_fold = y_train[train_index], y_train[val_index]\n",
    "\n",
    "    clf = svm.SVC(kernel='linear')  # Linear Kernel\n",
    "    \n",
    "\n",
    "    clf.fit(X_train_fold, y_train_fold)\n",
    "    y_pred_fold = clf.predict(X_val_fold)\n",
    "    end_time = time.time()\n",
    "    \n",
    "    fpr, tpr, thresholds = roc_curve(y_val_fold, y_pred_fold)\n",
    "    roc_auc = auc(fpr, tpr)\n",
    "    roc_aucs.append(roc_auc)\n",
    "\n",
    "    cm = confusion_matrix(y_val_fold, y_pred_fold)\n",
    "    confusion_matrices.append(cm)\n",
    "\n",
    "    ######### IMPORTANT INFO ###########\n",
    "    # The optimal cut-off would be where tpr is high and fpr is low\n",
    "    # tpr - (1-fpr) is zero or near to zero is the optimal cut off point\n",
    "    ####################################\n",
    "\n",
    "    i = np.arange(len(tpr))  # index for df\n",
    "    roc = pd.DataFrame(\n",
    "        {'fpr': pd.Series(fpr, index=i),\n",
    "         'tpr': pd.Series(tpr, index=i),\n",
    "         '1-fpr': pd.Series(1 - fpr, index=i),\n",
    "         'tf': pd.Series(tpr - (1 - fpr), index=i),\n",
    "         'thresholds': pd.Series(thresholds, index=i)\n",
    "         })\n",
    "\n",
    "    rocs.append(roc)"
   ],
   "outputs": []
  },
  {
   "cell_type": "markdown",
   "id": "b3487d94934324e2",
   "metadata": {
    "collapsed": false
   },
   "source": [
    "**Show Optimum threshold & ROC Curves** "
   ]
  },
  {
   "cell_type": "code",
   "execution_count": 133,
   "id": "7b8135e22619555b",
   "metadata": {
    "collapsed": false,
    "ExecuteTime": {
     "end_time": "2024-04-02T07:39:40.892162Z",
     "start_time": "2024-04-02T07:39:39.806401Z"
    }
   },
   "source": [
    " for i, roc in enumerate(rocs):\n",
    "    # Plot tpr vs 1-fpr\n",
    "    fig, ax = pl.subplots()\n",
    "    pl.plot(roc['tpr'], color='black')\n",
    "    pl.plot(roc['1-fpr'], color='red')\n",
    "    pl.xlabel('False Positive Rate')\n",
    "    pl.ylabel('True Positive Rate')\n",
    "    pl.title(f\"Area under the {i + 1}. ROC curve : {roc_aucs[i]:.3f}\")\n",
    "    pl.legend([\"tpr\", \"1-fpr\"], loc=\"lower right\")\n",
    "\n",
    "    plt.figure(figsize=(3, 3))\n",
    "    sns.heatmap(confusion_matrices[i], annot=True)\n",
    "    plt.title('Confusion Matrix')\n",
    "    plt.ylabel('True label')\n",
    "    plt.xlabel('False Label')\n",
    "    plt.plot()\n",
    "\n",
    "    roc_optimum_threshold = roc.iloc[(roc.tf - 0).abs().argsort()[:1]]\n",
    "    print(f\"{i + 1}. ROC Optimum threshold= {list(roc_optimum_threshold['thresholds'])}\")\n",
    "\n",
    "    plt.show()\n",
    "    ax.set_xticklabels([])"
   ],
   "outputs": []
  },
  {
   "cell_type": "markdown",
   "id": "77edc718a6472c1b",
   "metadata": {
    "collapsed": false
   },
   "source": [
    "**Runtime Performance**"
   ]
  },
  {
   "cell_type": "markdown",
   "source": [
    "Area Under Curve (AUC) is closer to 1 are more good, robust etc model than others. So as you can see, i get the 1 which optimal thresold 1 to."
   ],
   "metadata": {
    "collapsed": false
   },
   "id": "c1fe5015153a7113"
  },
  {
   "cell_type": "code",
   "source": [
    "print(f'Predict Runtime: {end_time - start_time:.6f} seconds')"
   ],
   "metadata": {
    "collapsed": false,
    "ExecuteTime": {
     "end_time": "2024-04-02T07:39:40.894509Z",
     "start_time": "2024-04-02T07:39:40.892768Z"
    }
   },
   "id": "8a3c4cde38d45ecc",
   "execution_count": 134,
   "outputs": []
  }
 ],
 "metadata": {
  "kernelspec": {
   "display_name": "Python 3",
   "language": "python",
   "name": "python3"
  },
  "language_info": {
   "codemirror_mode": {
    "name": "ipython",
    "version": 2
   },
   "file_extension": ".py",
   "mimetype": "text/x-python",
   "name": "python",
   "nbconvert_exporter": "python",
   "pygments_lexer": "ipython2",
   "version": "2.7.6"
  }
 },
 "nbformat": 4,
 "nbformat_minor": 5
}
